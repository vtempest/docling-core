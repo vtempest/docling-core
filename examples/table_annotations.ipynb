{
 "cells": [
  {
   "cell_type": "markdown",
   "id": "922d396f",
   "metadata": {},
   "source": [
    "# Table annotations"
   ]
  },
  {
   "cell_type": "code",
   "execution_count": 1,
   "id": "d35192ea",
   "metadata": {},
   "outputs": [],
   "source": [
    "from rich.console import Console\n",
    "from rich.panel import Panel\n",
    "\n",
    "console = Console(\n",
    "    width=180,  # for getting Markdown tables rendered nicely\n",
    ")"
   ]
  },
  {
   "cell_type": "code",
   "execution_count": 2,
   "id": "50437c89",
   "metadata": {},
   "outputs": [],
   "source": [
    "from docling_core.types.doc.document import DoclingDocument\n",
    "\n",
    "file_path = \"2408.09869v3.json\"\n",
    "pages = {5}  # pages to serialize (for output brevity)\n",
    "\n",
    "doc = DoclingDocument.load_from_json(file_path)"
   ]
  },
  {
   "cell_type": "markdown",
   "id": "a51271ac",
   "metadata": {},
   "source": [
    "## Adding a table annotation"
   ]
  },
  {
   "cell_type": "markdown",
   "id": "557791de",
   "metadata": {},
   "source": [
    "Below we add a demo table annotation, picking the first table for illustrative purposes.\n",
    "\n",
    "Note that `TableMiscData` allows any dict data within the `content` field.\n"
   ]
  },
  {
   "cell_type": "code",
   "execution_count": 3,
   "id": "add64711",
   "metadata": {},
   "outputs": [],
   "source": [
    "from docling_core.types.doc.document import TableMiscData\n",
    "\n",
    "assert doc.tables, \"No table available in this document\"\n",
    "table = doc.tables[0]\n",
    "\n",
    "my_annotation = TableMiscData(\n",
    "    content={\n",
    "        \"summary\": \"Typical Docling setup runtime characterization.\",\n",
    "        \"type\": \"performance data\",\n",
    "        # ...\n",
    "    },\n",
    ")\n",
    "table.add_annotation(\n",
    "    annotation=my_annotation,\n",
    ")"
   ]
  },
  {
   "cell_type": "markdown",
   "id": "81408ae6",
   "metadata": {},
   "source": [
    "## Default serialization"
   ]
  },
  {
   "cell_type": "code",
   "execution_count": 4,
   "id": "b1be8540",
   "metadata": {},
   "outputs": [
    {
     "data": {
      "text/html": [
       "<pre style=\"white-space:pre;overflow-x:auto;line-height:normal;font-family:Menlo,'DejaVu Sans Mono',consolas,'Courier New',monospace\">╭─────────────────────────────────────────────────────────────────────────────────── pages={5} ────────────────────────────────────────────────────────────────────────────────────╮\n",
       "│ torch runtimes backing the Docling pipeline. We will deliver updates on this topic at in a future version of this report.                                                        │\n",
       "│                                                                                                                                                                                  │\n",
       "│ Table 1: Runtime characteristics of Docling with the standard model pipeline and settings, on our test dataset of 225 pages, on two different systems. OCR is disabled. We show  │\n",
       "│ the time-to-solution (TTS), computed throughput in pages per second, and the peak memory used (resident set size) for both the Docling-native PDF backend and for the pypdfium   │\n",
       "│ backend, using 4 and 16 threads.                                                                                                                                                 │\n",
       "│                                                                                                                                                                                  │\n",
       "│ | CPU                              | Thread budget   | native backend   | native backend   | native backend   | pypdfium backend   | pypdfium backend   | pypdfium backend   |   │\n",
       "│ |----------------------------------|-----------------|------------------|------------------|------------------|--------------------|--------------------|--------------------|   │\n",
       "│ |                                  |                 | TTS              | Pages/s          | Mem              | TTS                | Pages/s            | Mem                |   │\n",
       "│ | Apple M3 Max                     | 4               | 177 s 167 s      | 1.27 1.34        | 6.20 GB          | 103 s 92 s         | 2.18 2.45          | 2.56 GB            |   │\n",
       "│ | (16 cores) Intel(R) Xeon E5-2690 | 16 4 16         | 375 s 244 s      | 0.60 0.92        | 6.16 GB          | 239 s 143 s        | 0.94 1.57          | 2.42 GB            |   │\n",
       "│                                                                                                                                                                                  │\n",
       "│ ## 5 Applications                                                                                                                                                                │\n",
       "│                                                                                                                                                                                  │\n",
       "│ Thanks to the high-quality, richly structured document conversion achieved by Docling, its output qualifies for numerous downstream applications. For example, Docling can       │\n",
       "│ provide a base for detailed enterprise document search, passage retrieval or classification use-cases, or support knowledge extraction pipelines, allowing specific treatment of │\n",
       "│ different structures in the document, such as tables, figures, section structure or references. For popular generative AI application patterns, such as retrieval-augmented      │\n",
       "│ generation (RAG), we provide quackling , an open-source package which capital...                                                                                                 │\n",
       "╰──────────────────────────────────────────────────────────────────────────────────────────────────────────────────────────────────────────────────────────────────────────────────╯\n",
       "</pre>\n"
      ],
      "text/plain": [
       "╭─────────────────────────────────────────────────────────────────────────────────── pages={5} ────────────────────────────────────────────────────────────────────────────────────╮\n",
       "│ torch runtimes backing the Docling pipeline. We will deliver updates on this topic at in a future version of this report.                                                        │\n",
       "│                                                                                                                                                                                  │\n",
       "│ Table 1: Runtime characteristics of Docling with the standard model pipeline and settings, on our test dataset of 225 pages, on two different systems. OCR is disabled. We show  │\n",
       "│ the time-to-solution (TTS), computed throughput in pages per second, and the peak memory used (resident set size) for both the Docling-native PDF backend and for the pypdfium   │\n",
       "│ backend, using 4 and 16 threads.                                                                                                                                                 │\n",
       "│                                                                                                                                                                                  │\n",
       "│ | CPU                              | Thread budget   | native backend   | native backend   | native backend   | pypdfium backend   | pypdfium backend   | pypdfium backend   |   │\n",
       "│ |----------------------------------|-----------------|------------------|------------------|------------------|--------------------|--------------------|--------------------|   │\n",
       "│ |                                  |                 | TTS              | Pages/s          | Mem              | TTS                | Pages/s            | Mem                |   │\n",
       "│ | Apple M3 Max                     | 4               | 177 s 167 s      | 1.27 1.34        | 6.20 GB          | 103 s 92 s         | 2.18 2.45          | 2.56 GB            |   │\n",
       "│ | (16 cores) Intel(R) Xeon E5-2690 | 16 4 16         | 375 s 244 s      | 0.60 0.92        | 6.16 GB          | 239 s 143 s        | 0.94 1.57          | 2.42 GB            |   │\n",
       "│                                                                                                                                                                                  │\n",
       "│ ## 5 Applications                                                                                                                                                                │\n",
       "│                                                                                                                                                                                  │\n",
       "│ Thanks to the high-quality, richly structured document conversion achieved by Docling, its output qualifies for numerous downstream applications. For example, Docling can       │\n",
       "│ provide a base for detailed enterprise document search, passage retrieval or classification use-cases, or support knowledge extraction pipelines, allowing specific treatment of │\n",
       "│ different structures in the document, such as tables, figures, section structure or references. For popular generative AI application patterns, such as retrieval-augmented      │\n",
       "│ generation (RAG), we provide quackling , an open-source package which capital...                                                                                                 │\n",
       "╰──────────────────────────────────────────────────────────────────────────────────────────────────────────────────────────────────────────────────────────────────────────────────╯\n"
      ]
     },
     "metadata": {},
     "output_type": "display_data"
    }
   ],
   "source": [
    "from docling_core.transforms.serializer.markdown import (\n",
    "    MarkdownDocSerializer,\n",
    "    MarkdownParams,\n",
    ")\n",
    "\n",
    "ser = MarkdownDocSerializer(\n",
    "    doc=doc,\n",
    "    params=MarkdownParams(\n",
    "        pages=pages,\n",
    "    ),\n",
    ")\n",
    "ser_out = ser.serialize()\n",
    "ser_txt = ser_out.text\n",
    "console.print(Panel(f\"{ser_txt[:2000]}...\", title=f\"{pages=}\"))"
   ]
  },
  {
   "cell_type": "markdown",
   "id": "50b513c1",
   "metadata": {},
   "source": [
    "## Custom serialization"
   ]
  },
  {
   "cell_type": "code",
   "execution_count": 5,
   "id": "add5b785",
   "metadata": {},
   "outputs": [],
   "source": [
    "from typing import Any\n",
    "\n",
    "from docling_core.transforms.serializer.base import (\n",
    "    BaseDocSerializer,\n",
    "    SerializationResult,\n",
    ")\n",
    "from docling_core.transforms.serializer.common import create_ser_result\n",
    "from docling_core.transforms.serializer.markdown import MarkdownTableSerializer\n",
    "from docling_core.types.doc.document import (\n",
    "    TableItem,\n",
    ")\n",
    "from typing_extensions import override\n",
    "\n",
    "\n",
    "class CustomAnnotationTableSerializer(MarkdownTableSerializer):\n",
    "    @override\n",
    "    def serialize(\n",
    "        self,\n",
    "        *,\n",
    "        item: TableItem,\n",
    "        doc_serializer: BaseDocSerializer,\n",
    "        doc: DoclingDocument,\n",
    "        **kwargs: Any,\n",
    "    ) -> SerializationResult:\n",
    "        params = MarkdownParams(**kwargs)\n",
    "\n",
    "        text_parts: list[str] = []\n",
    "\n",
    "        if params.include_annotations:\n",
    "            for ann in item.annotations:\n",
    "                if isinstance(ann, TableMiscData):\n",
    "\n",
    "                    # custom serialization logic:\n",
    "                    out_txt = \"\\n\".join([f\"{k}: {ann.content[k]}\" for k in ann.content])\n",
    "                    text_parts.append(out_txt)\n",
    "\n",
    "        # reusing the existing result (excluding the annotations):\n",
    "        parent_res = super().serialize(\n",
    "            item=item,\n",
    "            doc_serializer=doc_serializer,\n",
    "            doc=doc,\n",
    "            **{**kwargs, **{\"include_annotations\": False}},\n",
    "        )\n",
    "        text_parts.append(parent_res.text)\n",
    "\n",
    "        text_res = \"\\n\\n\".join(text_parts)\n",
    "        return create_ser_result(text=text_res, span_source=item)"
   ]
  },
  {
   "cell_type": "code",
   "execution_count": 6,
   "id": "e1107ddb",
   "metadata": {},
   "outputs": [
    {
     "data": {
      "text/html": [
       "<pre style=\"white-space:pre;overflow-x:auto;line-height:normal;font-family:Menlo,'DejaVu Sans Mono',consolas,'Courier New',monospace\">╭─────────────────────────────────────────────────────────────────────────────────── pages={5} ────────────────────────────────────────────────────────────────────────────────────╮\n",
       "│ torch runtimes backing the Docling pipeline. We will deliver updates on this topic at in a future version of this report.                                                        │\n",
       "│                                                                                                                                                                                  │\n",
       "│ summary: Typical Docling setup runtime characterization.                                                                                                                         │\n",
       "│ type: performance data                                                                                                                                                           │\n",
       "│                                                                                                                                                                                  │\n",
       "│ Table 1: Runtime characteristics of Docling with the standard model pipeline and settings, on our test dataset of 225 pages, on two different systems. OCR is disabled. We show  │\n",
       "│ the time-to-solution (TTS), computed throughput in pages per second, and the peak memory used (resident set size) for both the Docling-native PDF backend and for the pypdfium   │\n",
       "│ backend, using 4 and 16 threads.                                                                                                                                                 │\n",
       "│                                                                                                                                                                                  │\n",
       "│ | CPU                              | Thread budget   | native backend   | native backend   | native backend   | pypdfium backend   | pypdfium backend   | pypdfium backend   |   │\n",
       "│ |----------------------------------|-----------------|------------------|------------------|------------------|--------------------|--------------------|--------------------|   │\n",
       "│ |                                  |                 | TTS              | Pages/s          | Mem              | TTS                | Pages/s            | Mem                |   │\n",
       "│ | Apple M3 Max                     | 4               | 177 s 167 s      | 1.27 1.34        | 6.20 GB          | 103 s 92 s         | 2.18 2.45          | 2.56 GB            |   │\n",
       "│ | (16 cores) Intel(R) Xeon E5-2690 | 16 4 16         | 375 s 244 s      | 0.60 0.92        | 6.16 GB          | 239 s 143 s        | 0.94 1.57          | 2.42 GB            |   │\n",
       "│                                                                                                                                                                                  │\n",
       "│ ## 5 Applications                                                                                                                                                                │\n",
       "│                                                                                                                                                                                  │\n",
       "│ Thanks to the high-quality, richly structured document conversion achieved by Docling, its output qualifies for numerous downstream applications. For example, Docling can       │\n",
       "│ provide a base for detailed enterprise document search, passage retrieval or classification use-cases, or support knowledge extraction pipelines, allowing specific treatment of │\n",
       "│ different structures in the document, such as tables, figures, section structure or references. For popular generative AI application patterns, such as retrieval-augmen...      │\n",
       "╰──────────────────────────────────────────────────────────────────────────────────────────────────────────────────────────────────────────────────────────────────────────────────╯\n",
       "</pre>\n"
      ],
      "text/plain": [
       "╭─────────────────────────────────────────────────────────────────────────────────── pages={5} ────────────────────────────────────────────────────────────────────────────────────╮\n",
       "│ torch runtimes backing the Docling pipeline. We will deliver updates on this topic at in a future version of this report.                                                        │\n",
       "│                                                                                                                                                                                  │\n",
       "│ summary: Typical Docling setup runtime characterization.                                                                                                                         │\n",
       "│ type: performance data                                                                                                                                                           │\n",
       "│                                                                                                                                                                                  │\n",
       "│ Table 1: Runtime characteristics of Docling with the standard model pipeline and settings, on our test dataset of 225 pages, on two different systems. OCR is disabled. We show  │\n",
       "│ the time-to-solution (TTS), computed throughput in pages per second, and the peak memory used (resident set size) for both the Docling-native PDF backend and for the pypdfium   │\n",
       "│ backend, using 4 and 16 threads.                                                                                                                                                 │\n",
       "│                                                                                                                                                                                  │\n",
       "│ | CPU                              | Thread budget   | native backend   | native backend   | native backend   | pypdfium backend   | pypdfium backend   | pypdfium backend   |   │\n",
       "│ |----------------------------------|-----------------|------------------|------------------|------------------|--------------------|--------------------|--------------------|   │\n",
       "│ |                                  |                 | TTS              | Pages/s          | Mem              | TTS                | Pages/s            | Mem                |   │\n",
       "│ | Apple M3 Max                     | 4               | 177 s 167 s      | 1.27 1.34        | 6.20 GB          | 103 s 92 s         | 2.18 2.45          | 2.56 GB            |   │\n",
       "│ | (16 cores) Intel(R) Xeon E5-2690 | 16 4 16         | 375 s 244 s      | 0.60 0.92        | 6.16 GB          | 239 s 143 s        | 0.94 1.57          | 2.42 GB            |   │\n",
       "│                                                                                                                                                                                  │\n",
       "│ ## 5 Applications                                                                                                                                                                │\n",
       "│                                                                                                                                                                                  │\n",
       "│ Thanks to the high-quality, richly structured document conversion achieved by Docling, its output qualifies for numerous downstream applications. For example, Docling can       │\n",
       "│ provide a base for detailed enterprise document search, passage retrieval or classification use-cases, or support knowledge extraction pipelines, allowing specific treatment of │\n",
       "│ different structures in the document, such as tables, figures, section structure or references. For popular generative AI application patterns, such as retrieval-augmen...      │\n",
       "╰──────────────────────────────────────────────────────────────────────────────────────────────────────────────────────────────────────────────────────────────────────────────────╯\n"
      ]
     },
     "metadata": {},
     "output_type": "display_data"
    }
   ],
   "source": [
    "ser = MarkdownDocSerializer(\n",
    "    doc=doc,\n",
    "    table_serializer=CustomAnnotationTableSerializer(),\n",
    "    params=MarkdownParams(\n",
    "        pages=pages,\n",
    "    ),\n",
    ")\n",
    "ser_out = ser.serialize()\n",
    "ser_txt = ser_out.text\n",
    "console.print(Panel(f\"{ser_txt[:2000]}...\", title=f\"{pages=}\"))"
   ]
  },
  {
   "cell_type": "code",
   "execution_count": null,
   "id": "c7aff9c8",
   "metadata": {},
   "outputs": [],
   "source": []
  }
 ],
 "metadata": {
  "kernelspec": {
   "display_name": ".venv",
   "language": "python",
   "name": "python3"
  },
  "language_info": {
   "codemirror_mode": {
    "name": "ipython",
    "version": 3
   },
   "file_extension": ".py",
   "mimetype": "text/x-python",
   "name": "python",
   "nbconvert_exporter": "python",
   "pygments_lexer": "ipython3",
   "version": "3.12.4"
  }
 },
 "nbformat": 4,
 "nbformat_minor": 5
}
